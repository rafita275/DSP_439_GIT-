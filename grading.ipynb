{
 "cells": [
  {
   "cell_type": "code",
   "execution_count": 10,
   "id": "ac6f22ba",
   "metadata": {},
   "outputs": [
    {
     "name": "stdout",
     "output_type": "stream",
     "text": [
      "Number of level 1 achievements earned:15\n",
      "Number of level 2 achievements earned:15\n",
      "Number of level 3 achievements earned:7\n",
      "Letter grade: B+\n"
     ]
    }
   ],
   "source": [
    "# This is a  function that computes a grade for this cuorse\n",
    "# The function shows the user the grade on the class depending on the \n",
    "# levels achieved during the course.\n",
    "\n",
    "# Function name: compute_grade\n",
    "# Parameters: num_level1: int\n",
    "#                 number of level 1 achievements earned\n",
    "#             num_level2: int\n",
    "#                 number of level 2 achievements earned\n",
    "#             num_level3: int\n",
    "#                 number of level 3 achievements earned\n",
    "#Returns: letter_grade: string\n",
    "\n",
    "num_level1=int(input('Number of level 1 achievements earned:'))\n",
    "num_level2=int(input('Number of level 2 achievements earned:'))\n",
    "num_level3=int(input('Number of level 3 achievements earned:'))\n",
    "\n",
    "def compute_grade(num_level1,num_level2,num_level3):\n",
    "    if num_level1<=3:\n",
    "        print('Letter grade: D')\n",
    "    if num_level1>=5 and num_level1<10:\n",
    "        print('Letter grade: D+')\n",
    "    if num_level1>=10 and num_level1<15:\n",
    "        print('Letter grade: C-')\n",
    "    if num_level1==15 and num_level2<5:\n",
    "        print('Letter grade: C')\n",
    "    if num_level1==15 and num_level2>=5 and num_level2<10:\n",
    "        print('Letter grade: C+')\n",
    "    if num_level1==15 and num_level2>=10 and num_level2<15:\n",
    "        print('Letter grade: B-')\n",
    "    if num_level1==15 and num_level2==15 and num_level3<5:\n",
    "        print('Letter grade: B')    \n",
    "    if num_level1==15 and num_level2==15 and num_level3>=5 and num_level3<10:\n",
    "        print('Letter grade: B+')    \n",
    "    if num_level1==15 and num_level2==15 and num_level3>=10 and num_level3<15:\n",
    "        print('Letter grade: A-')\n",
    "    if num_level1==15 and num_level2==15 and num_level3==15:\n",
    "        print('Letter grade: A+')    \n",
    "        \n",
    "        \n",
    "compute_grade(num_level1,num_level2,num_level3)\n",
    "        "
   ]
  },
  {
   "cell_type": "code",
   "execution_count": null,
   "id": "68630a3c",
   "metadata": {},
   "outputs": [],
   "source": []
  }
 ],
 "metadata": {
  "kernelspec": {
   "display_name": "Python 3 (ipykernel)",
   "language": "python",
   "name": "python3"
  },
  "language_info": {
   "codemirror_mode": {
    "name": "ipython",
    "version": 3
   },
   "file_extension": ".py",
   "mimetype": "text/x-python",
   "name": "python",
   "nbconvert_exporter": "python",
   "pygments_lexer": "ipython3",
   "version": "3.9.7"
  }
 },
 "nbformat": 4,
 "nbformat_minor": 5
}
